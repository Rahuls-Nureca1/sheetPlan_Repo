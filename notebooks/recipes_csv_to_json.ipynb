{
 "cells": [
  {
   "cell_type": "markdown",
   "metadata": {},
   "source": [
    "generate a json of recipes from a csv"
   ]
  },
  {
   "cell_type": "code",
   "execution_count": 14,
   "metadata": {},
   "outputs": [],
   "source": [
    "import pandas as pd\n",
    "import numpy as np\n",
    "import json\n",
    "import simplejson\n",
    "import csv\n",
    "import os\n",
    "import re\n",
    "from bs4 import BeautifulSoup\n",
    "import requests\n",
    "from urllib.parse import urlparse\n",
    "from numpyencoder import NumpyEncoder"
   ]
  },
  {
   "cell_type": "code",
   "execution_count": 5,
   "metadata": {},
   "outputs": [],
   "source": [
    "path = '../input/kiwi.csv'\n",
    "df = pd.read_csv(path)"
   ]
  },
  {
   "cell_type": "code",
   "execution_count": 6,
   "metadata": {},
   "outputs": [
    {
     "data": {
      "text/plain": [
       "recipe_name                 0\n",
       "recipe_url                  0\n",
       "course                      0\n",
       "cusine                      0\n",
       "image_path                  0\n",
       "website_name                0\n",
       "serving                     0\n",
       "ingredient_name             0\n",
       "ingredient_standard_name    0\n",
       "ingredient_desc             0\n",
       "quantity                    0\n",
       "quantity_in_gram            0\n",
       "serving_unit                0\n",
       "dtype: int64"
      ]
     },
     "execution_count": 6,
     "metadata": {},
     "output_type": "execute_result"
    }
   ],
   "source": [
    "df.isnull().sum()"
   ]
  },
  {
   "cell_type": "code",
   "execution_count": 17,
   "metadata": {},
   "outputs": [],
   "source": [
    "recipes = []\n",
    "\n",
    "def na_to_empty_str(item):\n",
    "    if item != item:\n",
    "        return ''\n",
    "    if str(item).strip() == '-':\n",
    "        return ''\n",
    "    return item\n",
    "\n",
    "def na_to_null(item):\n",
    "    if str(item).strip() == '-':\n",
    "        return np.nan\n",
    "    return int(item)\n",
    "\n",
    "def null_to_zero(item):\n",
    "    if str(item).strip() == '-':\n",
    "        return 0\n",
    "    return float(item)\n",
    "\n",
    "def course_check(row):\n",
    "    if 'course' in row.columns:\n",
    "        return na_to_empty_str(row['course'].values[0])\n",
    "    return ''\n",
    "\n",
    "def serving_check(row):\n",
    "    if row['serving'].values[0] != row['serving'].values[0]:\n",
    "        return ''   # return '0'\n",
    "    if row['serving'].astype(str).values[0].strip() == '-':\n",
    "        return ''   # return '0'\n",
    "    return str(int(row['serving'].values[0]))\n",
    "\n",
    "def cusine_check(row):\n",
    "    if 'cusine' in row.columns:\n",
    "        return na_to_empty_str(row['cusine'].values[0])\n",
    "    if 'cuisine' in row.columns:\n",
    "        return na_to_empty_str(row['cuisine'].values[0])\n",
    "    return ''\n",
    "\n",
    "def quantity_in_gram_check(row):\n",
    "    if 'quantity_in_gram' in row.columns:\n",
    "        return na_to_null(row['quantity_in_gram'].values[0])\n",
    "    if 'quantity_in_grams' in row.columns:\n",
    "        return na_to_null(row['quantity_in_grams'].values[0])\n",
    "    return np.nan\n",
    "\n",
    "def create_instance(row):\n",
    "    instance = {\n",
    "        'recipe_name': row['recipe_name'].values[0],\n",
    "        'image_path': na_to_empty_str(row['image_path'].values[0]),\n",
    "        'course': [{\"title\":f\"{course_check(row)}\"}],\n",
    "        'cusine': [{\"title\":f\"{cusine_check(row)}\"}],\n",
    "        'recipe_url': row['recipe_url'].values[0],\n",
    "        'website_name': row['website_name'].values[0],\n",
    "        'serving': serving_check(row), \n",
    "        'ingredients': [{\n",
    "            'ingredient_name': row['ingredient_name'].values[0],\n",
    "            'ingredient_standard_name': row['ingredient_standard_name'].values[0],\n",
    "            'ingredient_desc': na_to_empty_str(row['ingredient_desc'].values[0]),\n",
    "            'quantity': null_to_zero(row['quantity'].values[0]),\n",
    "            'quantity_in_gram': quantity_in_gram_check(row),\n",
    "            'serving_unit': na_to_empty_str(row['serving_unit'].values[0])\n",
    "        }] \n",
    "    }\n",
    "    return instance\n",
    "\n",
    "def fetch_ingredient_values(row):\n",
    "    ingredient = {\n",
    "        'ingredient_name': row['ingredient_name'].values[0],\n",
    "        'ingredient_standard_name': row['ingredient_standard_name'].values[0],\n",
    "        'ingredient_desc': na_to_empty_str(row['ingredient_desc'].values[0]),\n",
    "        'quantity': null_to_zero(row['quantity'].values[0]),\n",
    "        'quantity_in_gram': quantity_in_gram_check(row),\n",
    "        'serving_unit': na_to_empty_str(row['serving_unit'].values[0])\n",
    "    }\n",
    "    return ingredient\n",
    "\n",
    "\n",
    "\n",
    "row = prev = df.iloc[:1, :]\n",
    "instance = create_instance(row)\n",
    "for i in range(1, len(df)):\n",
    "    row = df.iloc[i:i+1, :]\n",
    "    if row['recipe_name'].values[0] == prev['recipe_name'].values[0]:\n",
    "        ingredient = fetch_ingredient_values(row)\n",
    "        instance['ingredients'].append(ingredient)\n",
    "    else:\n",
    "        recipes.append(instance)\n",
    "        instance = create_instance(row)\n",
    "        prev = row\n",
    "\n",
    "recipes.append(instance)\n",
    "\n"
   ]
  },
  {
   "cell_type": "code",
   "execution_count": 18,
   "metadata": {},
   "outputs": [
    {
     "data": {
      "text/plain": [
       "1"
      ]
     },
     "execution_count": 18,
     "metadata": {},
     "output_type": "execute_result"
    }
   ],
   "source": [
    "len(recipes)"
   ]
  },
  {
   "cell_type": "code",
   "execution_count": 19,
   "metadata": {},
   "outputs": [],
   "source": [
    "path = '../input/kiwi.json'\n",
    "with open(path, 'w', encoding='utf-8') as f:\n",
    "    simplejson.dump(recipes, f, ignore_nan=True ,ensure_ascii=False, indent=4)"
   ]
  },
  {
   "cell_type": "code",
   "execution_count": null,
   "metadata": {},
   "outputs": [],
   "source": []
  }
 ],
 "metadata": {
  "kernelspec": {
   "display_name": "Python 3.8.13 ('fooddb')",
   "language": "python",
   "name": "python3"
  },
  "language_info": {
   "codemirror_mode": {
    "name": "ipython",
    "version": 3
   },
   "file_extension": ".py",
   "mimetype": "text/x-python",
   "name": "python",
   "nbconvert_exporter": "python",
   "pygments_lexer": "ipython3",
   "version": "3.8.13"
  },
  "orig_nbformat": 4,
  "vscode": {
   "interpreter": {
    "hash": "3ad060f7a3f025fcfb0f4d68023a74e2fc130261787b798048b8b28c71a663fd"
   }
  }
 },
 "nbformat": 4,
 "nbformat_minor": 2
}
