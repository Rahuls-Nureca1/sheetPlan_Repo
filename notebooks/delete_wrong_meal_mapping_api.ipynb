{
 "cells": [
  {
   "cell_type": "markdown",
   "id": "575ac17a-5f7a-4b68-afa2-ad5180c3263e",
   "metadata": {},
   "source": [
    "### Delete wrongly mapped recipes in planned meal table\n",
    "1. get the recipes mapped to each meal plan\n",
    "2. filter wrongly mapped recipes \n",
    "3. get the schedule id for worngly mapped\n",
    "4. delete the wrongly mapped recipes using the API "
   ]
  },
  {
   "cell_type": "code",
   "execution_count": null,
   "id": "designed-island",
   "metadata": {},
   "outputs": [],
   "source": [
    "import pandas as pd\n",
    "import json\n",
    "import pickle\n",
    "import requests\n",
    "import pathlib\n",
    "import time\n",
    "import numpy as np\n",
    "import os\n",
    "import requests\n",
    "from itertools import chain\n",
    "import ast"
   ]
  },
  {
   "cell_type": "code",
   "execution_count": null,
   "id": "pleased-protocol",
   "metadata": {},
   "outputs": [],
   "source": [
    "import warnings\n",
    "warnings.filterwarnings('ignore')"
   ]
  },
  {
   "cell_type": "code",
   "execution_count": null,
   "id": "private-actor",
   "metadata": {},
   "outputs": [],
   "source": [
    "def load_json(path):\n",
    "    with open(path , 'r') as f:\n",
    "        return json.load(f)\n",
    "\n",
    "def export_json(data, path='result.json'):\n",
    "    with open(path, 'w') as f:\n",
    "        json.dump(data, f)\n",
    "\n",
    "def load_pickle(path):\n",
    "    with open(path , 'rb') as f:\n",
    "        return pickle.load(f)\n",
    "    \n",
    "def export_pickle(data, path='result.pikle'):\n",
    "    with open(path, 'wb') as f:\n",
    "        pickle.dump(data, f)"
   ]
  },
  {
   "cell_type": "markdown",
   "id": "89e27210-e8a3-4202-b476-b238fc2cccb4",
   "metadata": {},
   "source": [
    "#### get wrongly mapped recipes for meal plan "
   ]
  },
  {
   "cell_type": "code",
   "execution_count": null,
   "id": "talented-lightning",
   "metadata": {},
   "outputs": [],
   "source": [
    "def get_plan_meals(plan_id):\n",
    "    url = f\"http://18.223.178.105:5000/api/v1/plan_management/plan/{plan_id}\"\n",
    "    response = requests.request(\"GET\", url, headers={}, data=\"\")\n",
    "    return json.loads(response.text)"
   ]
  },
  {
   "cell_type": "code",
   "execution_count": null,
   "id": "bored-thomson",
   "metadata": {},
   "outputs": [],
   "source": [
    "def get_meal_map_details(plan_id):\n",
    "    res = get_plan_meals(plan_id)\n",
    "    temp = []\n",
    "    for day, vals in res['plan_details'].items():\n",
    "        for tm, rep in vals.items():\n",
    "            rep = rep['recipes']\n",
    "            for obj in rep:\n",
    "                obj['day_name'] = day\n",
    "                obj['time'] = tm\n",
    "                temp.append(obj)\n",
    "    temp = pd.DataFrame.from_dict(temp)\n",
    "    temp.recipe_name = temp.recipe_name.str.lower()\n",
    "    temp = temp.groupby(['day_name', 'time'])['recipe_name'].unique()\n",
    "    temp = temp.reset_index()\n",
    "    return temp"
   ]
  },
  {
   "cell_type": "markdown",
   "id": "78f28e89-5a32-4a61-acff-c62e33a785b7",
   "metadata": {},
   "source": [
    "#### get the status csv containing mapping status like pending recipes to map, wrongly mapped recipes etc  "
   ]
  },
  {
   "cell_type": "code",
   "execution_count": null,
   "id": "peaceful-prospect",
   "metadata": {},
   "outputs": [],
   "source": [
    "def get_meal_mapping_status(df_diet_plan):\n",
    "    df_result_list = []\n",
    "    for plan_id, df_diet in df_diet_plan.groupby('plan_id'):\n",
    "        try:\n",
    "            diet_db = get_meal_map_details(plan_id)\n",
    "            \n",
    "            df_diet.Name = df_diet.Name.str.lower()\n",
    "            df_diet = df_diet.groupby(['day_name', 'time'])['Name'].unique()\n",
    "            df_diet = df_diet.reset_index()\n",
    "            result= pd.merge(df_diet, diet_db, left_on=['day_name', 'time'], right_on=['day_name', 'time'], how='left')\n",
    "            result.recipe_name = result.recipe_name.fillna(\"\").apply(list)\n",
    "            result['pending_recipe'] = result.apply(lambda row : list(set(row['Name'])-set(row['recipe_name'])), axis=1)\n",
    "            result['mismatch_recipe'] = result.apply(lambda row : list(set(row['recipe_name'])-set(row['Name'])), axis=1)\n",
    "            result['recipe_per_schedule'] = result.apply(lambda row : len(set(row['Name'])), axis=1)\n",
    "            result['mapped_recipe'] = result.apply(lambda row : len(set(row['Name'])), axis=1)\n",
    "            result['pending_recipe_per_schedule'] = result.apply(lambda row : len(set(row['pending_recipe'])), axis=1)\n",
    "            result['wrong_count'] = result.apply(lambda row : len(set(row['mismatch_recipe'])), axis=1)\n",
    "            result['plan_id'] = plan_id\n",
    "            df_result_list.append(result)\n",
    "            print('Processed ', plan_id)\n",
    "        except Exception as e:\n",
    "            print('\\t Exception ', e)\n",
    "            print('\\t Failed to process ', plan_id)\n",
    "\n",
    "    df_result = pd.concat(df_result_list, ignore_index=True)\n",
    "    df_result.to_csv('meal_mapping_status.csv', index=False)\n",
    "    return df_result"
   ]
  },
  {
   "cell_type": "code",
   "execution_count": null,
   "id": "rolled-mixer",
   "metadata": {},
   "outputs": [],
   "source": [
    "def delete_planned_meal_api(payload):\n",
    "    url = \"http://18.223.178.105:5000/api/v1/plan_management/delete-planned-meal\"\n",
    "    headers = { \"Content-Type\" : \"application/json;charset=utf-8\"}\n",
    "    payload = json.dumps(payload)\n",
    "    response = requests.request(\"POST\", url, headers=headers, data=payload)\n",
    "    print(response.text)"
   ]
  },
  {
   "cell_type": "code",
   "execution_count": null,
   "id": "appointed-savage",
   "metadata": {},
   "outputs": [],
   "source": [
    "def delete_recipe_mapping(schedule_id, recipes):\n",
    "    if recipes:\n",
    "        for recipe_name in recipes:\n",
    "            payload = {\"recipe_id\":recipe_name_id.get(recipe_name),\n",
    "                    \"schedule_id\": schedule_id}\n",
    "            print(payload)\n",
    "            delete_planned_meal_api(payload)\n",
    "            "
   ]
  },
  {
   "cell_type": "code",
   "execution_count": null,
   "id": "13afc6db-070b-4223-a1e5-649a10b6fac1",
   "metadata": {},
   "outputs": [],
   "source": [
    "def get_wrong_recipe_maps(df_diet_plan, df_meal_status):\n",
    "    x = df_meal_status[['day_name', 'time', 'plan_id', 'mismatch_recipe']]\n",
    "    y = df_diet_plan[['time', 'day_name', 'plan_id', 'plan_schedule_id']]\n",
    "    y = y.drop_duplicates()\n",
    "    \n",
    "    return pd.merge(x,y, on=['time', 'day_name', 'plan_id'], how='left')"
   ]
  },
  {
   "cell_type": "markdown",
   "id": "e13a683e-07e0-4543-aa8b-0b53de008410",
   "metadata": {},
   "source": [
    "#### get wrongly mapped recipe list "
   ]
  },
  {
   "cell_type": "code",
   "execution_count": null,
   "id": "cdc5503f-b5a1-4518-a234-582274983138",
   "metadata": {},
   "outputs": [],
   "source": [
    "df_diet_plan = pd.read_csv('/home/syed/Downloads/Meal_plan_mapping_format_28_diet_Allplans.csv')\n",
    "df_meal_status = get_meal_mapping_status(df_diet_plan)\n",
    "# df_meal_status = pd.read_csv('./meal_mapping_status.csv')\n",
    "df_delete = get_wrong_recipe_maps(df_diet_plan, df_meal_status)"
   ]
  },
  {
   "cell_type": "markdown",
   "id": "f982e5d8-761e-4bb1-a93b-5511ff9f025e",
   "metadata": {},
   "source": [
    "#### delete wrongly mapped recipes "
   ]
  },
  {
   "cell_type": "code",
   "execution_count": null,
   "id": "eaa4bad3-8368-4f0c-8a0c-4133d6b5e5d1",
   "metadata": {},
   "outputs": [],
   "source": [
    "df_delete.apply(lambda row: delete_recipe_mapping(row['plan_schedule_id'], row['mismatch_recipe']), axis=1)"
   ]
  }
 ],
 "metadata": {
  "kernelspec": {
   "display_name": "Python 3 (ipykernel)",
   "language": "python",
   "name": "python3"
  },
  "language_info": {
   "codemirror_mode": {
    "name": "ipython",
    "version": 3
   },
   "file_extension": ".py",
   "mimetype": "text/x-python",
   "name": "python",
   "nbconvert_exporter": "python",
   "pygments_lexer": "ipython3",
   "version": "3.8.13"
  }
 },
 "nbformat": 4,
 "nbformat_minor": 5
}
