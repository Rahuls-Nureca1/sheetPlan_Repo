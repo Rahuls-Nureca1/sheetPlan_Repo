{
 "cells": [
  {
   "cell_type": "markdown",
   "id": "faf18906-0a24-4a92-97c0-439f50a2b837",
   "metadata": {},
   "source": [
    "### Add the Recipes to database via API endpoint \n",
    "1. Get the recipe detail son\n",
    "2. Make API call to endpoint `http://18.223.178.105:5000/api/v1/recipe_management`"
   ]
  },
  {
   "cell_type": "code",
   "execution_count": null,
   "id": "adjusted-printing",
   "metadata": {},
   "outputs": [],
   "source": [
    "import pandas as pd\n",
    "import json\n",
    "import pickle\n",
    "import requests\n",
    "import pathlib\n",
    "import time\n",
    "import numpy as np\n",
    "import os\n",
    "import requests"
   ]
  },
  {
   "cell_type": "code",
   "execution_count": null,
   "id": "trained-final",
   "metadata": {},
   "outputs": [],
   "source": [
    "def load_json(path):\n",
    "    with open(path , 'r') as f:\n",
    "        return json.load(f)\n",
    "\n",
    "def export_json(data, path='result.json'):\n",
    "    with open(path, 'w') as f:\n",
    "        json.dump(data, f)\n",
    "\n",
    "def load_pickle(path):\n",
    "    with open(path , 'rb') as f:\n",
    "        return pickle.load(f)\n",
    "    \n",
    "def export_pickle(data, path='result.pikle'):\n",
    "    with open(path, 'wb') as f:\n",
    "        pickle.dump(data, f)"
   ]
  },
  {
   "cell_type": "markdown",
   "id": "96ad0368-a2eb-42bb-a117-3534e51c6c2e",
   "metadata": {},
   "source": [
    "#### API call to update recipe table "
   ]
  },
  {
   "cell_type": "code",
   "execution_count": null,
   "id": "helpful-lying",
   "metadata": {},
   "outputs": [],
   "source": [
    "def add_recipe(data):\n",
    "    url = \"http://18.223.178.105:5000/api/v1/recipe_management\"\n",
    "    headers = { \"Content-Type\" : \"application/json;charset=utf-8\"}\n",
    "    failed = []\n",
    "    for payload in data:\n",
    "        try:\n",
    "            payload = json.dumps(payload)\n",
    "            response = requests.request(\"POST\", url, headers=headers, data=payload)\n",
    "            print(response.text)\n",
    "            time.sleep(0.3)\n",
    "        except Exception as e:\n",
    "            failed.append(payload)\n",
    "            print('\\t Error in ', e)\n",
    "            print('\\t Recipe', payload)\n",
    "    return failed"
   ]
  },
  {
   "cell_type": "markdown",
   "id": "b23a0981-2f48-416e-87c8-62d41f93ef1e",
   "metadata": {},
   "source": [
    "#### load dataset containing these values \n",
    "\n",
    "\n",
    "\n",
    "\n",
    "'recipe_name', 'image_path', 'course', 'cusine', 'recipe_url', 'website_name', 'serving', 'ingredients'"
   ]
  },
  {
   "cell_type": "code",
   "execution_count": null,
   "id": "legendary-funds",
   "metadata": {},
   "outputs": [],
   "source": [
    "data = load_json('/home/syed/Downloads/list10.json')\n",
    "failed = add_recipe(data)"
   ]
  }
 ],
 "metadata": {
  "kernelspec": {
   "display_name": "Python 3 (ipykernel)",
   "language": "python",
   "name": "python3"
  },
  "language_info": {
   "codemirror_mode": {
    "name": "ipython",
    "version": 3
   },
   "file_extension": ".py",
   "mimetype": "text/x-python",
   "name": "python",
   "nbconvert_exporter": "python",
   "pygments_lexer": "ipython3",
   "version": "3.8.13"
  }
 },
 "nbformat": 4,
 "nbformat_minor": 5
}
