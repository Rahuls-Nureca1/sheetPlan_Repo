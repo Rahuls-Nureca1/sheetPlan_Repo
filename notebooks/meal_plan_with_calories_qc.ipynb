{
 "cells": [
  {
   "cell_type": "code",
   "execution_count": 3,
   "metadata": {},
   "outputs": [],
   "source": [
    "import pandas as pd\n",
    "import json\n",
    "import requests"
   ]
  },
  {
   "cell_type": "code",
   "execution_count": 4,
   "metadata": {},
   "outputs": [],
   "source": [
    "import warnings\n",
    "warnings.filterwarnings('ignore')"
   ]
  },
  {
   "cell_type": "markdown",
   "metadata": {},
   "source": [
    "### Create a sheet with serving details and calories for all meals in all meal plans"
   ]
  },
  {
   "cell_type": "code",
   "execution_count": 3,
   "metadata": {},
   "outputs": [
    {
     "name": "stdout",
     "output_type": "stream",
     "text": [
      "Plan 1 done\n",
      "Plan 2 done\n",
      "Plan 3 done\n",
      "Plan 4 done\n",
      "Plan 5 done\n",
      "Plan 6 done\n",
      "Plan 7 done\n",
      "Plan 8 done\n",
      "Plan 9 done\n",
      "Plan 10 done\n",
      "Plan 11 done\n",
      "Plan 12 done\n",
      "Plan 13 done\n",
      "Plan 14 done\n",
      "Plan 15 done\n",
      "Plan 16 done\n",
      "Plan 17 done\n",
      "Plan 18 done\n",
      "Plan 19 done\n",
      "Plan 20 done\n",
      "Plan 21 done\n",
      "Plan 22 done\n",
      "Plan 23 done\n",
      "Plan 24 done\n",
      "Plan 25 done\n",
      "Plan 26 done\n",
      "Plan 27 done\n",
      "Plan 28 done\n"
     ]
    }
   ],
   "source": [
    "df = pd.DataFrame()\n",
    "payload={}\n",
    "headers = {}\n",
    "meal_times = ['Breakfast', 'Dinner', 'Early Morning', 'Evening Tea', 'Lunch', 'Mid Morning']\n",
    "\n",
    "for plan_id in range(1,29):\n",
    "    \n",
    "    for day_id in range(1,8):\n",
    "        url = f\"http://18.223.178.105:5000/api/v1/plan_management/{plan_id}/{day_id}\"   # dev\n",
    "        # url = f\"http://13.234.6.215:5000/api/v1/plan_management/{plan_id}/{day_id}\"   # prod\n",
    "        response = requests.request(\"GET\", url, headers=headers, data=payload)\n",
    "        response = json.loads(response.text)\n",
    "\n",
    "        if 'message' in response.keys():\n",
    "            print(f' error')\n",
    "            continue\n",
    "\n",
    "        plan_id = response['plan_id']\n",
    "        plan_name = response['plan_name']\n",
    "        day = response['day_name']\n",
    "\n",
    "        for item in response.keys():\n",
    "            if item in meal_times:\n",
    "                meal_time = item\n",
    "                for meal_no, meal in enumerate(response[meal_time]):\n",
    "                    recipe_name = meal['recipe_name']\n",
    "                    recipe_id = meal['id']\n",
    "                    energy_all_serving = meal['macros'][-1]['value']\n",
    "                    per_serving_wt = round(float(meal['per_serving_wt']), 2)\n",
    "                    total_serving_wt = round(float(meal['serving']['total_serving_wt']), 2)\n",
    "                    serving_qty = meal['serving']['quantity']\n",
    "                    serving_unit = meal['serving']['unit']\n",
    "                    \n",
    "                    df = df.append({\n",
    "                        'plan_id': plan_id,\n",
    "                        'plan_name': plan_name,\n",
    "                        'day': day,\n",
    "                        'meal_time': meal_time,\n",
    "                        'meal_no': meal_no,\n",
    "                        'recipe_id': recipe_id,\n",
    "                        'recipe_name': recipe_name,\n",
    "                        'energy': energy_all_serving,\n",
    "                        'per_serving_wt': per_serving_wt,\n",
    "                        'total_serving_wt': total_serving_wt,\n",
    "                        'serving_qty': serving_qty,\n",
    "                        'serving_unit': serving_unit,\n",
    "                    },\n",
    "                    ignore_index=True\n",
    "                    )\n",
    "    print(f'Plan {plan_id} done')"
   ]
  },
  {
   "cell_type": "code",
   "execution_count": 4,
   "metadata": {},
   "outputs": [
    {
     "data": {
      "text/plain": [
       "3062"
      ]
     },
     "execution_count": 4,
     "metadata": {},
     "output_type": "execute_result"
    }
   ],
   "source": [
    "len(df)"
   ]
  },
  {
   "cell_type": "code",
   "execution_count": 5,
   "metadata": {},
   "outputs": [],
   "source": [
    "df.to_csv('../output/Meal_plan_with_calories(15Nov).csv', index=False)"
   ]
  },
  {
   "cell_type": "markdown",
   "metadata": {},
   "source": [
    "## experiment"
   ]
  },
  {
   "cell_type": "code",
   "execution_count": 17,
   "metadata": {},
   "outputs": [
    {
     "name": "stdout",
     "output_type": "stream",
     "text": [
      "Plan 1 done\n",
      "Plan 2 done\n",
      "Plan 3 done\n",
      "Plan 4 done\n",
      "Plan 5 done\n",
      "Plan 6 done\n",
      "Plan 7 done\n",
      "Plan 8 done\n",
      "Plan 9 done\n",
      "Plan 10 done\n",
      "Plan 11 done\n",
      "Plan 12 done\n",
      "Plan 13 done\n",
      "Plan 14 done\n",
      "Plan 15 done\n",
      "Plan 16 done\n",
      "Plan 17 done\n",
      "Plan 18 done\n",
      "Plan 19 done\n",
      "Plan 20 done\n",
      "Plan 21 done\n",
      "Plan 22 done\n",
      "Plan 23 done\n",
      "Plan 24 done\n",
      "Plan 25 done\n",
      "Plan 26 done\n",
      "Plan 27 done\n",
      "Plan 28 done\n"
     ]
    }
   ],
   "source": [
    "df = pd.DataFrame()\n",
    "payload={}\n",
    "headers = {}\n",
    "\n",
    "meal_times = {\n",
    "    'Early Morning': 1,\n",
    "    'Breakfast': 2, \n",
    "    'Mid Morning': 3, \n",
    "    'Lunch': 4, \n",
    "    'Evening Tea': 5, \n",
    "    'Dinner': 6, \n",
    "}\n",
    "\n",
    "meal_set = 0\n",
    "\n",
    "for plan_id in range(1,29):\n",
    "    \n",
    "    for day_id in range(1,8):\n",
    "        url = f\"http://18.223.178.105:5000/api/v1/plan_management/{plan_id}/{day_id}\"\n",
    "        # url = f\"http://13.234.6.215:5000/api/v1/plan_management/{plan_id}/{day_id}\"\n",
    "        response = requests.request(\"GET\", url, headers=headers, data=payload)\n",
    "        response = json.loads(response.text)\n",
    "\n",
    "        if 'message' in response.keys():\n",
    "            print(f' error')\n",
    "            continue\n",
    "\n",
    "        plan_id = response['plan_id']\n",
    "        plan_name = response['plan_name']\n",
    "        day_name = response['day_name']\n",
    "        day_id = response['day']\n",
    "\n",
    "        for item in response.keys():\n",
    "            meal_set += 1\n",
    "            if item in meal_times.keys():\n",
    "                meal_time = item\n",
    "                meal_time_id = meal_times[meal_time]\n",
    "                for meal_no, meal in enumerate(response[meal_time]):\n",
    "                    recipe_name = meal['recipe_name']\n",
    "                    recipe_id = meal['id']\n",
    "                    energy_all_serving = meal['macros'][-1]['value']\n",
    "                    protein_all_serving = meal['macros'][0]['value']\n",
    "                    # per_serving_wt = round(float(meal['per_serving_wt']), 2)\n",
    "                    total_serving_wt = round(float(meal['serving']['total_serving_wt']), 2)\n",
    "                    serving_qty = meal['serving']['quantity']\n",
    "                    serving_unit = meal['serving']['unit']\n",
    "                    \n",
    "                    df = df.append({\n",
    "                        'plan_id': plan_id,\n",
    "                        # 'plan_name': plan_name,\n",
    "                        # 'day_name': day_name,\n",
    "                        'day_id': day_id,\n",
    "                        'meal_time_id': meal_time_id,\n",
    "                        'meal_set': meal_set,\n",
    "                        # 'meal_no': meal_no,\n",
    "                        'recipe_id': recipe_id,\n",
    "                        'recipe_name': recipe_name,\n",
    "                        'energy': energy_all_serving,\n",
    "                        'protein': protein_all_serving,\n",
    "                        # 'per_serving_wt': per_serving_wt,\n",
    "                        'total_serving_wt': total_serving_wt,\n",
    "                        # 'serving_qty': serving_qty,\n",
    "                        # 'serving_unit': serving_unit,\n",
    "                    },\n",
    "                    ignore_index=True\n",
    "                    )\n",
    "    print(f'Plan {plan_id} done')\n",
    "    df.to_csv('../output/Meal_plan_with_calories_exp.csv', index=False)"
   ]
  },
  {
   "cell_type": "code",
   "execution_count": null,
   "metadata": {},
   "outputs": [],
   "source": [
    "df.to_csv('../output/Meal_plan_with_calories_exp.csv', index=False)"
   ]
  },
  {
   "cell_type": "code",
   "execution_count": 7,
   "metadata": {},
   "outputs": [],
   "source": [
    "plan_id = 1\n",
    "day_id = 2\n",
    "payload={}\n",
    "headers = {}\n",
    "\n",
    "url = f\"http://13.234.6.215:5000/api/v1/plan_management/{plan_id}/{day_id}\"\n",
    "response = requests.request(\"GET\", url, headers=headers, data=payload)\n",
    "response = json.loads(response.text)"
   ]
  },
  {
   "cell_type": "code",
   "execution_count": 8,
   "metadata": {},
   "outputs": [
    {
     "data": {
      "text/plain": [
       "dict_keys(['Breakfast', 'Dinner', 'Early Morning', 'Evening Tea', 'Id', 'Lunch', 'Mid Morning', 'day', 'day_name', 'plan_id', 'plan_name', 'success'])"
      ]
     },
     "execution_count": 8,
     "metadata": {},
     "output_type": "execute_result"
    }
   ],
   "source": [
    "response.keys()"
   ]
  },
  {
   "cell_type": "code",
   "execution_count": 16,
   "metadata": {},
   "outputs": [
    {
     "data": {
      "text/plain": [
       "{'key': 'protein', 'unit': 'g', 'value': 12.77}"
      ]
     },
     "execution_count": 16,
     "metadata": {},
     "output_type": "execute_result"
    }
   ],
   "source": [
    "response['Breakfast'][1]['macros'][0]"
   ]
  },
  {
   "cell_type": "code",
   "execution_count": null,
   "metadata": {},
   "outputs": [],
   "source": []
  }
 ],
 "metadata": {
  "kernelspec": {
   "display_name": "Python 3.8.13 ('fooddb')",
   "language": "python",
   "name": "python3"
  },
  "language_info": {
   "codemirror_mode": {
    "name": "ipython",
    "version": 3
   },
   "file_extension": ".py",
   "mimetype": "text/x-python",
   "name": "python",
   "nbconvert_exporter": "python",
   "pygments_lexer": "ipython3",
   "version": "3.8.13"
  },
  "orig_nbformat": 4,
  "vscode": {
   "interpreter": {
    "hash": "3ad060f7a3f025fcfb0f4d68023a74e2fc130261787b798048b8b28c71a663fd"
   }
  }
 },
 "nbformat": 4,
 "nbformat_minor": 2
}
