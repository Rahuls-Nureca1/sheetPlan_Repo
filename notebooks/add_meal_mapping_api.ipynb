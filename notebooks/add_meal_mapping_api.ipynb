{
 "cells": [
  {
   "cell_type": "markdown",
   "id": "3767c386-6a22-445d-96c5-e8ba4f52dc9f",
   "metadata": {},
   "source": [
    "### Map Recipes to Meal Plan\n",
    "#### Takes : Diet Plan csv , recipe_list csv (dump from datbase), serving unit list csv (dump from db)\n",
    "1. Take and normalised Recipe CSV\n",
    "2. Pre process the data by adding unit id and recipe_id columns\n",
    "3. get list of recipes to be added from the database\n",
    "4. update meal map recipes in database "
   ]
  },
  {
   "cell_type": "code",
   "execution_count": null,
   "id": "distinct-logan",
   "metadata": {},
   "outputs": [],
   "source": [
    "import pandas as pd\n",
    "import json\n",
    "import pickle\n",
    "import requests\n",
    "import pathlib\n",
    "import time\n",
    "import numpy as np\n",
    "import os\n",
    "import requests\n",
    "from itertools import chain\n",
    "import ast"
   ]
  },
  {
   "cell_type": "code",
   "execution_count": null,
   "id": "extra-bacteria",
   "metadata": {},
   "outputs": [],
   "source": [
    "import warnings\n",
    "warnings.filterwarnings('ignore')"
   ]
  },
  {
   "cell_type": "code",
   "execution_count": null,
   "id": "white-alexander",
   "metadata": {},
   "outputs": [],
   "source": [
    "def load_json(path):\n",
    "    with open(path , 'r') as f:\n",
    "        return json.load(f)\n",
    "\n",
    "def export_json(data, path='result.json'):\n",
    "    with open(path, 'w') as f:\n",
    "        json.dump(data, f)\n",
    "\n",
    "def load_pickle(path):\n",
    "    with open(path , 'rb') as f:\n",
    "        return pickle.load(f)\n",
    "    \n",
    "def export_pickle(data, path='result.pikle'):\n",
    "    with open(path, 'wb') as f:\n",
    "        pickle.dump(data, f)"
   ]
  },
  {
   "cell_type": "markdown",
   "id": "e496b9e6-cbca-4c4a-b54f-d57af95a49e8",
   "metadata": {},
   "source": [
    "#### Create a mapper for serving unit \n",
    "`{ 'unit_name' : 'unit_id' }` "
   ]
  },
  {
   "cell_type": "code",
   "execution_count": null,
   "id": "individual-panama",
   "metadata": {},
   "outputs": [],
   "source": [
    "def get_serving_unit_mapper(df_units):\n",
    "    serving_unit_mapper = dict(zip(df_units.serving_unit_name.str.lower(), df_units.id))\n",
    "    serving_unit_mapper['tbsp'] = serving_unit_mapper['table spoon']\n",
    "    serving_unit_mapper['tsp'] = serving_unit_mapper['tea spoon']\n",
    "    serving_unit_mapper['pc'] = serving_unit_mapper['pieces']\n",
    "    serving_unit_mapper['whole'] = serving_unit_mapper['whole fruit']\n",
    "    serving_unit_mapper['oz'] = serving_unit_mapper['ounce']\n",
    "    return serving_unit_mapper"
   ]
  },
  {
   "cell_type": "markdown",
   "id": "653f941b-b73b-440a-88e4-ad9df2358b4f",
   "metadata": {},
   "source": [
    "#### Filter and rename columns as per API requirement "
   ]
  },
  {
   "cell_type": "code",
   "execution_count": null,
   "id": "decimal-portland",
   "metadata": {},
   "outputs": [],
   "source": [
    "def plan_api_data_format(df_diet_plan_api):\n",
    "    cols = ['recipe_id', 'plan_schedule_id', 'unit_id', 'Servings']\n",
    "    df_diet_plan_api = df_diet_plan_api[cols]\n",
    "\n",
    "    df_diet_plan_api.rename(columns={'recipe_id': 'recipe_id', \n",
    "                                    'plan_schedule_id': 'schedule_id', \n",
    "                                    'unit_id': 'serving_unit_id', \n",
    "                                    'Servings': 'quantity'}, inplace=True)\n",
    "\n",
    "    df_diet_plan_api.recipe_id = df_diet_plan_api.recipe_id.astype('int')\n",
    "    df_diet_plan_api.quantity = df_diet_plan_api.quantity.astype('float')\n",
    "    df_diet_plan_api.serving_unit_id = df_diet_plan_api.serving_unit_id.astype('int')\n",
    "    return df_diet_plan_api.to_dict('records')"
   ]
  },
  {
   "cell_type": "markdown",
   "id": "c60acd29-f840-41fa-9317-bcc901840534",
   "metadata": {},
   "source": [
    "#### Map recipe standardise name with db name "
   ]
  },
  {
   "cell_type": "code",
   "execution_count": null,
   "id": "seasonal-charity",
   "metadata": {},
   "outputs": [],
   "source": [
    "def get_recipe_mapper(df_diet_plan_api, df_units):\n",
    "    serving_unit_mapper = get_serving_unit_mapper(df_units)\n",
    "    df_diet_plan_api.rename(columns={'Normalized Name': 'recipe_names'}, inplace=True)\n",
    "    recipe_id_mapper = dict(zip(df_meal.recipe_name.str.lower(), df_meal.id))\n",
    "    df_diet_plan_api['recipe_id'] = df_diet_plan_api.recipe_names.str.lower().map(recipe_id_mapper)\n",
    "    df_diet_plan_api['unit_id'] = df_diet_plan_api.Unit.str.lower().map(serving_unit_mapper)\n",
    "    df_diet_plan_api.unit_id = df_diet_plan_api.unit_id.fillna(serving_unit_mapper[np.nan])\n",
    "    return df_diet_plan_api"
   ]
  },
  {
   "cell_type": "markdown",
   "id": "fca634e5-0f22-40cf-bc15-07f3539b138c",
   "metadata": {},
   "source": [
    "#### API call to add recipe to meal plan"
   ]
  },
  {
   "cell_type": "code",
   "execution_count": null,
   "id": "beneficial-tutorial",
   "metadata": {},
   "outputs": [],
   "source": [
    "def update_meal_plan(payload_results):\n",
    "    url = \"http://18.223.178.105:5000/api/v1/plan_management/planMeal\"\n",
    "    headers = { \"Content-Type\" : \"application/json;charset=utf-8\"}\n",
    "    failed, success = [], []\n",
    "    for payload in payload_results:\n",
    "        try:\n",
    "            payload = json.dumps(payload)\n",
    "            response = requests.request(\"POST\", url, headers=headers, data=payload)\n",
    "            print(response.text)\n",
    "            success.append(payload)\n",
    "            time.sleep(0.7)\n",
    "        except Exception as e:\n",
    "            print('\\t Failed ', payload)\n",
    "            print('\\t Error', e)\n",
    "            failed.append(payload)\n",
    "    return failed, success"
   ]
  },
  {
   "cell_type": "markdown",
   "id": "c710ff6d-18e8-4e69-a415-ddc41946bb3c",
   "metadata": {},
   "source": [
    "#### get the list of recipes mapped to meal plan "
   ]
  },
  {
   "cell_type": "code",
   "execution_count": null,
   "id": "successful-anchor",
   "metadata": {},
   "outputs": [],
   "source": [
    "def get_plan_meals(plan_id):\n",
    "    url = f\"http://18.223.178.105:5000/api/v1/plan_management/plan/{plan_id}\"\n",
    "    response = requests.request(\"GET\", url, headers={}, data=\"\")\n",
    "    return json.loads(response.text)"
   ]
  },
  {
   "cell_type": "code",
   "execution_count": null,
   "id": "historic-feeling",
   "metadata": {},
   "outputs": [],
   "source": [
    "def get_meal_map_details(plan_id):\n",
    "    res = get_plan_meals(plan_id)\n",
    "    temp = []\n",
    "    for day, vals in res['plan_details'].items():\n",
    "        for tm, rep in vals.items():\n",
    "            rep = rep['recipes']\n",
    "            for obj in rep:\n",
    "                obj['day_name'] = day\n",
    "                obj['time'] = tm\n",
    "                temp.append(obj)\n",
    "    temp = pd.DataFrame.from_dict(temp)\n",
    "    temp.recipe_name = temp.recipe_name.str.lower()\n",
    "    temp = temp.groupby(['day_name', 'time'])['recipe_name'].unique()\n",
    "    temp = temp.reset_index()\n",
    "    return temp"
   ]
  },
  {
   "cell_type": "code",
   "execution_count": null,
   "id": "static-sydney",
   "metadata": {},
   "outputs": [],
   "source": [
    "def get_db_meal_plan_details(plan_id):\n",
    "    res = get_plan_meals(plan_id)\n",
    "    temp = dict()\n",
    "    for day, vals in res['plan_details'].items():\n",
    "        tm_dict = dict()\n",
    "        for tm, rep in vals.items():\n",
    "            rep = rep['recipes']\n",
    "            recipe_id = [x['recipe_id'] for x in rep]\n",
    "            tm_dict[str.lower(tm)] = recipe_id\n",
    "        temp[str.lower(day)] = tm_dict\n",
    "    return temp"
   ]
  },
  {
   "cell_type": "code",
   "execution_count": null,
   "id": "aggressive-moderator",
   "metadata": {},
   "outputs": [],
   "source": [
    "def check_is_recipe_mapped(plan_data, day_label, time_label, recipe_id):\n",
    "    if plan_data:\n",
    "        data = plan_data.get(str.lower(day_label), {})\n",
    "        data = data.get(str.lower(time_label), [])\n",
    "        return not int(recipe_id) in data\n",
    "    else:\n",
    "        return True\n",
    "\n",
    "# check_is_recipe_mapped(plan_data, 'friday', 'Dinner', 51)"
   ]
  },
  {
   "cell_type": "code",
   "execution_count": null,
   "id": "b8660d58-d891-4693-82c4-22c11d0dd5d9",
   "metadata": {},
   "outputs": [],
   "source": [
    "def add_recipe_to_meal_plan(df_diet_plan):\n",
    "    failed, success = [], []\n",
    "    for plan_id, df_diet_plan_api in df_diet_plan.groupby('plan_id'):\n",
    "        try:\n",
    "            print('Uploading ... ', plan_id)\n",
    "            plan_data = get_db_meal_plan_details(plan_id)\n",
    "            df_diet_plan_api['upload_status'] = df_diet_plan_api.apply(lambda row: check_is_recipe_mapped(plan_data, \n",
    "                                                                              row['day_name'], \n",
    "                                                                              row['time'], \n",
    "                                                                              row['recipe_id']), axis=1)\n",
    "            df_diet_plan_api = df_diet_plan_api[df_diet_plan_api['upload_status']]\n",
    "\n",
    "            payload_results = plan_api_data_format(df_diet_plan_api)\n",
    "            failed_, success_ = update_meal_plan(payload_results)\n",
    "\n",
    "            success.append(success_)\n",
    "        except Exception as e:\n",
    "            print('\\t failed to upload ', plan_id)\n",
    "            failed.append(failed_)\n",
    "    return failed, success"
   ]
  },
  {
   "cell_type": "code",
   "execution_count": null,
   "id": "2cd3abff-0c88-4356-8946-3d82f22d941a",
   "metadata": {},
   "outputs": [],
   "source": [
    "def pre_process_recipe_data(df_diet_plan, df_units, df_meal):\n",
    "    df_meal.recipe_name = df_meal.recipe_name.str.replace(' ', '')\n",
    "    recipe_id_mapper = dict(zip(df_meal.recipe_name.str.lower(), df_meal.id))\n",
    "\n",
    "    # recipe id mappping \n",
    "\n",
    "    df_diet_plan['Normalized Name'] = df_diet_plan['Name'].str.replace(' ', '')\n",
    "    df_diet_plan['recipe_id'] = df_diet_plan['Normalized Name'].str.lower().map(recipe_id_mapper)\n",
    "\n",
    "    # serving unit mapping \n",
    "    df_diet_plan = get_recipe_mapper(df_diet_plan, df_units)\n",
    "\n",
    "    # df_diet_plan = df_diet_plan[df_diet_plan.unit_id !=30]\n",
    "\n",
    "    missing_df1 = df_diet_plan[(df_diet_plan.recipe_id.isna()) | (df_diet_plan.Servings.isna())]\n",
    "    missing_df = df_diet_plan[(df_diet_plan.recipe_id.isna()) | (df_diet_plan.Servings.isna())]\n",
    "    missing_df.to_csv('mis_match_recipes.csv', index=False)\n",
    "    df_diet_plan = df_diet_plan[df_diet_plan.recipe_id.notna() & (df_diet_plan.Servings.notna())]\n",
    "    df_diet_plan = df_diet_plan[df_diet_plan.recipe_id.notna() & (df_diet_plan.Servings.notna())]\n",
    "    return df_diet_plan"
   ]
  },
  {
   "cell_type": "markdown",
   "id": "2be09cbc-130e-45c6-94a9-24ed6dec5827",
   "metadata": {},
   "source": [
    "1. `df_diet_plan` CSV file path for standardise recipes diet plan\n",
    "2. `df_meal` : CSV file path for dataase recipes (db dump)\n",
    "3. `df_serving` : CSV file path for database serving units (db dump)"
   ]
  },
  {
   "cell_type": "code",
   "execution_count": null,
   "id": "b05badf9-b56f-4457-8da8-dcdd169b801b",
   "metadata": {},
   "outputs": [],
   "source": [
    "df_diet_plan = pd.read_csv('./fooddb/csv/Meal_plan_mapping_format_28_diet_plans_All_plans v4 (Serving unit fixed).csv')\n",
    "df_meal = pd.read_csv('./fooddb/csv/database_310_meals.csv')\n",
    "df_units = pd.read_csv('./fooddb/csv/nureca_serving_units.csv')"
   ]
  },
  {
   "cell_type": "code",
   "execution_count": null,
   "id": "02b0640a-e5ca-4cf9-82c4-9a669d4943b3",
   "metadata": {},
   "outputs": [],
   "source": [
    "df_diet_plan = pre_process_recipe_data(df_diet_plan, df_units, df_meal)\n",
    "failed, success = add_recipe_to_meal_plan(df_diet_plan)"
   ]
  },
  {
   "cell_type": "code",
   "execution_count": null,
   "id": "ae5443f5-28d6-4c6c-9238-c798ee128532",
   "metadata": {},
   "outputs": [],
   "source": []
  }
 ],
 "metadata": {
  "kernelspec": {
   "display_name": "Python 3 (ipykernel)",
   "language": "python",
   "name": "python3"
  },
  "language_info": {
   "codemirror_mode": {
    "name": "ipython",
    "version": 3
   },
   "file_extension": ".py",
   "mimetype": "text/x-python",
   "name": "python",
   "nbconvert_exporter": "python",
   "pygments_lexer": "ipython3",
   "version": "3.8.13"
  }
 },
 "nbformat": 4,
 "nbformat_minor": 5
}
